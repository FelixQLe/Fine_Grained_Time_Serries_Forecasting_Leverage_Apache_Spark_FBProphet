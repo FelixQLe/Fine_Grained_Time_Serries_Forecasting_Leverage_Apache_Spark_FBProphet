{
 "cells": [
  {
   "cell_type": "markdown",
   "id": "ca7abeb9",
   "metadata": {},
   "source": [
    "- Intructions on this Repo\n",
    "1. Heap size error run this command line before run jupyter notebook on command line\n",
    "\n",
    "export PYSPARK_SUBMIT_ARGS=' --conf spark.sql.shuffle.partitions=700 --conf spark.default.parallelism=700 --driver-memory 30g --driver-cores 6 --executor-memory 30g --executor-cores 6 pyspark-shell'\n",
    "\n",
    "2. ERROR PythonRunner: Python worker exited unexpectedly (crashed) java.net.SocketException: Connection reset\n",
    "\n",
    "Try to run several times"
   ]
  },
  {
   "cell_type": "markdown",
   "id": "c8bedb0a",
   "metadata": {},
   "source": [
    "## Demand Forecasting\n",
    "\n",
    "The objective of this notebook is to illuate how we might leverage the Apache Spark - the efficient distribution of the work required to generate hundreds of thousands or even millions of ML models in a timely manner and FBProphet - popular library for demanding forecasting.\n",
    "\n",
    "NOTE: The original notebook utilized the DataBricks and DataLakes. In this notebook, I will use my Spark SQL and localhost storage to emulate the orginal notebook "
   ]
  },
  {
   "cell_type": "markdown",
   "id": "55f447bf",
   "metadata": {},
   "source": [
    "### Exploring Data\n",
    "- Source: https://www.kaggle.com/competitions/demand-forecasting-kernels-only/data\n",
    "\n",
    "A relatively simple and clean dataset, given 5 years of store-item sales data, and asked to predict 3 months of sales for 50 different items at 10 different stores. \n",
    "\n",
    "What's the best way to deal with seasonality? Should stores be modeled separately, or can you pool them together? \n",
    "\n"
   ]
  },
  {
   "cell_type": "markdown",
   "id": "1a36f3bb",
   "metadata": {},
   "source": [
    "#### Import Data from local to sql database\n",
    "- use pyspark to import data to sql database, to work similarly to DataBricks notebook"
   ]
  },
  {
   "cell_type": "code",
   "execution_count": 1,
   "id": "b15375fd",
   "metadata": {},
   "outputs": [],
   "source": [
    "#libraries\n",
    "import pandas as pd\n",
    "import numpy as np"
   ]
  },
  {
   "cell_type": "markdown",
   "id": "b0ba1daa",
   "metadata": {},
   "source": [
    "#### Create SQL databse using Pyspark\n"
   ]
  },
  {
   "cell_type": "code",
   "execution_count": 2,
   "id": "7af0426b",
   "metadata": {},
   "outputs": [
    {
     "name": "stdout",
     "output_type": "stream",
     "text": [
      "Pyspark Version: 3.3.0\n"
     ]
    }
   ],
   "source": [
    "#libraries\n",
    "import pyspark\n",
    "from pyspark import SparkContext, SparkConf\n",
    "from pyspark.sql import SparkSession, SQLContext\n",
    "print(f\"Pyspark Version: {pyspark.__version__}\")"
   ]
  },
  {
   "cell_type": "code",
   "execution_count": 3,
   "id": "60947742",
   "metadata": {},
   "outputs": [
    {
     "name": "stderr",
     "output_type": "stream",
     "text": [
      "Setting default log level to \"WARN\".\n",
      "To adjust logging level use sc.setLogLevel(newLevel). For SparkR, use setLogLevel(newLevel).\n"
     ]
    },
    {
     "name": "stdout",
     "output_type": "stream",
     "text": [
      "23/02/15 20:47:14 WARN NativeCodeLoader: Unable to load native-hadoop library for your platform... using builtin-java classes where applicable\n"
     ]
    }
   ],
   "source": [
    "#Create a spark Context class\n",
    "sc = SparkContext()"
   ]
  },
  {
   "cell_type": "code",
   "execution_count": 4,
   "id": "0a4c43dc",
   "metadata": {},
   "outputs": [],
   "source": [
    "#Create spark session\n",
    "spark = SparkSession.builder.master('local[*]').\\\n",
    "            config('spark.sql.debug.maxToStringFields', '100').\\\n",
    "            appName(\"Time Serries Forecasting\").getOrCreate()"
   ]
  },
  {
   "cell_type": "code",
   "execution_count": 27,
   "id": "0673a684",
   "metadata": {},
   "outputs": [],
   "source": [
    "#read the training data into a dataframe, and convert to datatype accordingly\n",
    "#library\n",
    "from pyspark.sql.types import *\n",
    "\n",
    "#structure of the training dataset\n",
    "train_schema = StructType([\n",
    "    StructField('date', DateType()),\n",
    "    StructField('store', IntegerType()),\n",
    "    StructField('item', IntegerType()),\n",
    "    StructField('sales', IntegerType())\n",
    "])\n",
    "\n",
    "spdf_data = spark.read.csv('./Data/train.csv', header=True, schema=train_schema)"
   ]
  },
  {
   "cell_type": "code",
   "execution_count": 28,
   "id": "0fce579c",
   "metadata": {},
   "outputs": [
    {
     "name": "stdout",
     "output_type": "stream",
     "text": [
      "root\n",
      " |-- date: date (nullable = true)\n",
      " |-- store: integer (nullable = true)\n",
      " |-- item: integer (nullable = true)\n",
      " |-- sales: integer (nullable = true)\n",
      "\n"
     ]
    }
   ],
   "source": [
    "spdf_data.printSchema()"
   ]
  },
  {
   "cell_type": "code",
   "execution_count": 29,
   "id": "137f5c91",
   "metadata": {},
   "outputs": [
    {
     "name": "stdout",
     "output_type": "stream",
     "text": [
      "+----------+-----+----+-----+\n",
      "|      date|store|item|sales|\n",
      "+----------+-----+----+-----+\n",
      "|2013-01-01|    1|   1|   13|\n",
      "|2013-01-02|    1|   1|   11|\n",
      "|2013-01-03|    1|   1|   14|\n",
      "|2013-01-04|    1|   1|   13|\n",
      "|2013-01-05|    1|   1|   10|\n",
      "|2013-01-06|    1|   1|   12|\n",
      "|2013-01-07|    1|   1|   10|\n",
      "|2013-01-08|    1|   1|    9|\n",
      "|2013-01-09|    1|   1|   12|\n",
      "|2013-01-10|    1|   1|    9|\n",
      "|2013-01-11|    1|   1|    9|\n",
      "|2013-01-12|    1|   1|    7|\n",
      "|2013-01-13|    1|   1|   10|\n",
      "|2013-01-14|    1|   1|   12|\n",
      "|2013-01-15|    1|   1|    5|\n",
      "|2013-01-16|    1|   1|    7|\n",
      "|2013-01-17|    1|   1|   16|\n",
      "|2013-01-18|    1|   1|    7|\n",
      "|2013-01-19|    1|   1|   18|\n",
      "|2013-01-20|    1|   1|   15|\n",
      "+----------+-----+----+-----+\n",
      "only showing top 20 rows\n",
      "\n"
     ]
    }
   ],
   "source": [
    "spdf_data.show()"
   ]
  },
  {
   "cell_type": "code",
   "execution_count": 30,
   "id": "31572da2",
   "metadata": {},
   "outputs": [],
   "source": [
    "#make the temporary view table\n",
    "spdf_data.createOrReplaceTempView('train')"
   ]
  },
  {
   "cell_type": "markdown",
   "id": "2e5955d1",
   "metadata": {},
   "source": [
    "##### General annual trends and seasonality in unit sales\n",
    "NOTE: DataBricks sql is able to visuallize immediately with sql queries in notebook cells, on Jupyter notebook we will create dataframe and visuallize using python visuallize libraries"
   ]
  },
  {
   "cell_type": "code",
   "execution_count": 31,
   "id": "7562ca54",
   "metadata": {},
   "outputs": [
    {
     "name": "stdout",
     "output_type": "stream",
     "text": [
      "The sparksql_magic extension is already loaded. To reload it, use:\n",
      "  %reload_ext sparksql_magic\n"
     ]
    }
   ],
   "source": [
    "##load sparksql magic to run sql queries in notebook cell\n",
    "%load_ext sparksql_magic"
   ]
  },
  {
   "cell_type": "markdown",
   "id": "9dbce087",
   "metadata": {},
   "source": [
    "##### Plot the annual trending "
   ]
  },
  {
   "cell_type": "code",
   "execution_count": 32,
   "id": "44bb48fe",
   "metadata": {},
   "outputs": [
    {
     "data": {
      "text/html": [
       "<table><tr style=\"border-bottom: 1px solid\"><td style=\"font-weight: bold\">year</td><td style=\"font-weight: bold\">sales</td></tr><tr><td>2013</td><td>7941243</td></tr><tr><td>2014</td><td>9135482</td></tr><tr><td>2015</td><td>9536887</td></tr><tr><td>2016</td><td>10357160</td></tr><tr><td>2017</td><td>10733740</td></tr></table>"
      ],
      "text/plain": [
       "<IPython.core.display.HTML object>"
      ]
     },
     "execution_count": 32,
     "metadata": {},
     "output_type": "execute_result"
    }
   ],
   "source": [
    "%%sparksql\n",
    "SELECT year(date) as year,\n",
    "        sum(sales) as sales \n",
    "    FROM train \n",
    "    GROUP BY year(date) \n",
    "    ORDER BY year;"
   ]
  },
  {
   "cell_type": "code",
   "execution_count": 33,
   "id": "c339cea5",
   "metadata": {},
   "outputs": [],
   "source": [
    "#collect data\n",
    "query_annual_trending ='\\\n",
    "    SELECT year(date) as year,\\\n",
    "            sum(sales) as sales \\\n",
    "    FROM train \\\n",
    "    GROUP BY year(date) \\\n",
    "    ORDER BY year;'\n",
    "collected_annual_trending = spark.sql(query_annual_trending).collect()"
   ]
  },
  {
   "cell_type": "code",
   "execution_count": 34,
   "id": "58f23266",
   "metadata": {},
   "outputs": [
    {
     "data": {
      "text/plain": [
       "[Row(year=2013, sales=7941243),\n",
       " Row(year=2014, sales=9135482),\n",
       " Row(year=2015, sales=9536887),\n",
       " Row(year=2016, sales=10357160),\n",
       " Row(year=2017, sales=10733740)]"
      ]
     },
     "execution_count": 34,
     "metadata": {},
     "output_type": "execute_result"
    }
   ],
   "source": [
    "collected_annual_trending"
   ]
  },
  {
   "cell_type": "code",
   "execution_count": 45,
   "id": "92dcf942",
   "metadata": {},
   "outputs": [],
   "source": [
    "#convert to dataframe for plotting\n",
    "df_annual_trending = pd.DataFrame(collected_annual_trending, columns=['year', 'million_sales'])\n",
    "df_annual_trending['million_sales'] = df_annual_trending['million_sales'].apply(lambda x: x/10**6)"
   ]
  },
  {
   "cell_type": "code",
   "execution_count": 46,
   "id": "db93471e",
   "metadata": {},
   "outputs": [
    {
     "data": {
      "text/html": [
       "<div>\n",
       "<style scoped>\n",
       "    .dataframe tbody tr th:only-of-type {\n",
       "        vertical-align: middle;\n",
       "    }\n",
       "\n",
       "    .dataframe tbody tr th {\n",
       "        vertical-align: top;\n",
       "    }\n",
       "\n",
       "    .dataframe thead th {\n",
       "        text-align: right;\n",
       "    }\n",
       "</style>\n",
       "<table border=\"1\" class=\"dataframe\">\n",
       "  <thead>\n",
       "    <tr style=\"text-align: right;\">\n",
       "      <th></th>\n",
       "      <th>year</th>\n",
       "      <th>million_sales</th>\n",
       "    </tr>\n",
       "  </thead>\n",
       "  <tbody>\n",
       "    <tr>\n",
       "      <th>0</th>\n",
       "      <td>2013</td>\n",
       "      <td>7.941243</td>\n",
       "    </tr>\n",
       "    <tr>\n",
       "      <th>1</th>\n",
       "      <td>2014</td>\n",
       "      <td>9.135482</td>\n",
       "    </tr>\n",
       "    <tr>\n",
       "      <th>2</th>\n",
       "      <td>2015</td>\n",
       "      <td>9.536887</td>\n",
       "    </tr>\n",
       "    <tr>\n",
       "      <th>3</th>\n",
       "      <td>2016</td>\n",
       "      <td>10.357160</td>\n",
       "    </tr>\n",
       "    <tr>\n",
       "      <th>4</th>\n",
       "      <td>2017</td>\n",
       "      <td>10.733740</td>\n",
       "    </tr>\n",
       "  </tbody>\n",
       "</table>\n",
       "</div>"
      ],
      "text/plain": [
       "   year  million_sales\n",
       "0  2013       7.941243\n",
       "1  2014       9.135482\n",
       "2  2015       9.536887\n",
       "3  2016      10.357160\n",
       "4  2017      10.733740"
      ]
     },
     "execution_count": 46,
     "metadata": {},
     "output_type": "execute_result"
    }
   ],
   "source": [
    "df_annual_trending"
   ]
  },
  {
   "cell_type": "code",
   "execution_count": 48,
   "id": "c7d32c23",
   "metadata": {},
   "outputs": [
    {
     "data": {
      "image/png": "[encoded data removed]",
      "text/plain": [
       "<Figure size 640x480 with 1 Axes>"
      ]
     },
     "metadata": {},
     "output_type": "display_data"
    }
   ],
   "source": [
    "#plot\n",
    "import matplotlib.pyplot as plt\n",
    "\n",
    "plt.plot(df_annual_trending['year'], df_annual_trending['million_sales'], color='red', marker='o')\n",
    "plt.title(\"Annual trending\", fontsize=13)\n",
    "plt.xlabel('year', fontsize=13)\n",
    "plt.ylabel('million sales', fontsize=13)\n",
    "plt.grid(True)\n",
    "plt.show()"
   ]
  },
  {
   "cell_type": "markdown",
   "id": "b8e97ecf",
   "metadata": {},
   "source": [
    "It is very clear growth from our annual trending chart in total sales across the stores. From this trend, we are able to expect our warehouse capacity to increase, and We might expect continued growth in few days, months."
   ]
  },
  {
   "cell_type": "markdown",
   "id": "05dbaaed",
   "metadata": {},
   "source": [
    "##### Plotting Seasonality trend"
   ]
  },
  {
   "cell_type": "code",
   "execution_count": 49,
   "id": "6e6d8a0e",
   "metadata": {},
   "outputs": [
    {
     "name": "stderr",
     "output_type": "stream",
     "text": [
      "\r",
      "[Stage 39:===========>                                              (1 + 4) / 5]\r"
     ]
    },
    {
     "name": "stdout",
     "output_type": "stream",
     "text": [
      "only showing top 20 row(s)\n"
     ]
    },
    {
     "name": "stderr",
     "output_type": "stream",
     "text": [
      "\r",
      "                                                                                \r"
     ]
    },
    {
     "data": {
      "text/html": [
       "<table><tr style=\"border-bottom: 1px solid\"><td style=\"font-weight: bold\">month</td><td style=\"font-weight: bold\">sales</td></tr><tr><td>2013-01-01</td><td>454904</td></tr><tr><td>2013-02-01</td><td>459417</td></tr><tr><td>2013-03-01</td><td>617382</td></tr><tr><td>2013-04-01</td><td>682274</td></tr><tr><td>2013-05-01</td><td>763242</td></tr><tr><td>2013-06-01</td><td>795597</td></tr><tr><td>2013-07-01</td><td>855922</td></tr><tr><td>2013-08-01</td><td>766761</td></tr><tr><td>2013-09-01</td><td>689907</td></tr><tr><td>2013-10-01</td><td>656587</td></tr><tr><td>2013-11-01</td><td>692643</td></tr><tr><td>2013-12-01</td><td>506607</td></tr><tr><td>2014-01-01</td><td>525987</td></tr><tr><td>2014-02-01</td><td>529117</td></tr><tr><td>2014-03-01</td><td>704301</td></tr><tr><td>2014-04-01</td><td>788914</td></tr><tr><td>2014-05-01</td><td>882877</td></tr><tr><td>2014-06-01</td><td>906842</td></tr><tr><td>2014-07-01</td><td>989010</td></tr><tr><td>2014-08-01</td><td>885596</td></tr></table>"
      ],
      "text/plain": [
       "<IPython.core.display.HTML object>"
      ]
     },
     "execution_count": 49,
     "metadata": {},
     "output_type": "execute_result"
    }
   ],
   "source": [
    "%%sparksql\n",
    "SELECT\n",
    "    TRUNC(date, 'MM') as month,\n",
    "    SUM(sales) as sales\n",
    "FROM train\n",
    "GROUP BY TRUNC(date, 'MM')\n",
    "ORDER BY month;"
   ]
  },
  {
   "cell_type": "code",
   "execution_count": 52,
   "id": "6c99c157",
   "metadata": {},
   "outputs": [
    {
     "name": "stderr",
     "output_type": "stream",
     "text": [
      "                                                                                \r"
     ]
    }
   ],
   "source": [
    "#collect data\n",
    "query_seasonality_trending =\"\\\n",
    "    SELECT TRUNC(date, 'MM') as month,\\\n",
    "            sum(sales) as sales \\\n",
    "    FROM train \\\n",
    "    GROUP BY TRUNC(date, 'MM') \\\n",
    "    ORDER BY month;\"\n",
    "collected_seasonality_trending = spark.sql(query_seasonality_trending).collect()"
   ]
  },
  {
   "cell_type": "code",
   "execution_count": 54,
   "id": "483a8c5b",
   "metadata": {},
   "outputs": [
    {
     "data": {
      "text/plain": [
       "[Row(month=datetime.date(2013, 2, 1), sales=459417),\n",
       " Row(month=datetime.date(2013, 3, 1), sales=617382),\n",
       " Row(month=datetime.date(2013, 4, 1), sales=682274),\n",
       " Row(month=datetime.date(2013, 5, 1), sales=763242),\n",
       " Row(month=datetime.date(2013, 6, 1), sales=795597),\n",
       " Row(month=datetime.date(2013, 7, 1), sales=855922),\n",
       " Row(month=datetime.date(2013, 8, 1), sales=766761),\n",
       " Row(month=datetime.date(2013, 9, 1), sales=689907),\n",
       " Row(month=datetime.date(2013, 10, 1), sales=656587)]"
      ]
     },
     "execution_count": 54,
     "metadata": {},
     "output_type": "execute_result"
    }
   ],
   "source": [
    "collected_seasonality_trending[1:10]"
   ]
  },
  {
   "cell_type": "code",
   "execution_count": 64,
   "id": "cacbc39b",
   "metadata": {},
   "outputs": [],
   "source": [
    "#convert to dataframe for plotting\n",
    "df_seasonality_trending = pd.DataFrame(collected_seasonality_trending, columns=['month', 'thousand_sales'])\n",
    "df_seasonality_trending['thousand_sales'] = df_seasonality_trending['thousand_sales'].apply(lambda x: x/1000)"
   ]
  },
  {
   "cell_type": "code",
   "execution_count": 65,
   "id": "f23b4f34",
   "metadata": {},
   "outputs": [
    {
     "data": {
      "text/plain": [
       "<AxesSubplot:xlabel='month'>"
      ]
     },
     "execution_count": 65,
     "metadata": {},
     "output_type": "execute_result"
    },
    {
     "data": {
      "image/png": "[encoded data removed]",
      "text/plain": [
       "<Figure size 640x480 with 1 Axes>"
      ]
     },
     "metadata": {},
     "output_type": "display_data"
    }
   ],
   "source": [
    "#plot\n",
    "import matplotlib.pyplot as plt\n",
    "\n",
    "##\n",
    "plt.plot(df_seasonality_trending['month'], df_seasonality_trending['thousand_sales'], color='red', marker='o')\n",
    "plt.title('Seasonality trending', fontsize=13)\n",
    "plt.xlabel('')"
   ]
  },
  {
   "cell_type": "code",
   "execution_count": null,
   "id": "23e1b140",
   "metadata": {},
   "outputs": [],
   "source": []
  }
 ],
 "metadata": {
  "kernelspec": {
   "display_name": "Python 3.8 (tensorflow)",
   "language": "python",
   "name": "lighthouse"
  },
  "language_info": {
   "codemirror_mode": {
    "name": "ipython",
    "version": 3
   },
   "file_extension": ".py",
   "mimetype": "text/x-python",
   "name": "python",
   "nbconvert_exporter": "python",
   "pygments_lexer": "ipython3",
   "version": "3.9.13"
  }
 },
 "nbformat": 4,
 "nbformat_minor": 5
}
